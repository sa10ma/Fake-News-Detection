{
 "cells": [
  {
   "cell_type": "code",
   "execution_count": 1,
   "id": "58f9e44c",
   "metadata": {},
   "outputs": [],
   "source": [
    "import pandas as pd\n",
    "import numpy as np\n",
    "import matplotlib.pyplot as plt\n",
    "from sklearn.model_selection import train_test_split\n",
    "from sklearn.feature_extraction.text import TfidfVectorizer\n",
    "from sklearn.linear_model import PassiveAggressiveClassifier\n",
    "from nltk.corpus import stopwords\n",
    "import string\n",
    "from nltk.stem import SnowballStemmer, PorterStemmer\n",
    "from sklearn.preprocessing import LabelEncoder\n",
    "from sklearn import metrics\n",
    "from textblob import Word, TextBlob\n",
    "import pickle "
   ]
  },
  {
   "cell_type": "code",
   "execution_count": 4,
   "id": "bdbdc6b5",
   "metadata": {},
   "outputs": [],
   "source": [
    "np.random.seed(3)"
   ]
  },
  {
   "cell_type": "code",
   "execution_count": 5,
   "id": "c0e20998",
   "metadata": {},
   "outputs": [
    {
     "data": {
      "text/html": [
       "<div>\n",
       "<style scoped>\n",
       "    .dataframe tbody tr th:only-of-type {\n",
       "        vertical-align: middle;\n",
       "    }\n",
       "\n",
       "    .dataframe tbody tr th {\n",
       "        vertical-align: top;\n",
       "    }\n",
       "\n",
       "    .dataframe thead th {\n",
       "        text-align: right;\n",
       "    }\n",
       "</style>\n",
       "<table border=\"1\" class=\"dataframe\">\n",
       "  <thead>\n",
       "    <tr style=\"text-align: right;\">\n",
       "      <th></th>\n",
       "      <th>Unnamed: 0</th>\n",
       "      <th>title</th>\n",
       "      <th>text</th>\n",
       "      <th>label</th>\n",
       "    </tr>\n",
       "  </thead>\n",
       "  <tbody>\n",
       "    <tr>\n",
       "      <th>0</th>\n",
       "      <td>8476</td>\n",
       "      <td>You Can Smell Hillary’s Fear</td>\n",
       "      <td>Daniel Greenfield, a Shillman Journalism Fello...</td>\n",
       "      <td>FAKE</td>\n",
       "    </tr>\n",
       "    <tr>\n",
       "      <th>1</th>\n",
       "      <td>10294</td>\n",
       "      <td>Watch The Exact Moment Paul Ryan Committed Pol...</td>\n",
       "      <td>Google Pinterest Digg Linkedin Reddit Stumbleu...</td>\n",
       "      <td>FAKE</td>\n",
       "    </tr>\n",
       "    <tr>\n",
       "      <th>2</th>\n",
       "      <td>3608</td>\n",
       "      <td>Kerry to go to Paris in gesture of sympathy</td>\n",
       "      <td>U.S. Secretary of State John F. Kerry said Mon...</td>\n",
       "      <td>REAL</td>\n",
       "    </tr>\n",
       "    <tr>\n",
       "      <th>3</th>\n",
       "      <td>10142</td>\n",
       "      <td>Bernie supporters on Twitter erupt in anger ag...</td>\n",
       "      <td>— Kaydee King (@KaydeeKing) November 9, 2016 T...</td>\n",
       "      <td>FAKE</td>\n",
       "    </tr>\n",
       "    <tr>\n",
       "      <th>4</th>\n",
       "      <td>875</td>\n",
       "      <td>The Battle of New York: Why This Primary Matters</td>\n",
       "      <td>It's primary day in New York and front-runners...</td>\n",
       "      <td>REAL</td>\n",
       "    </tr>\n",
       "  </tbody>\n",
       "</table>\n",
       "</div>"
      ],
      "text/plain": [
       "   Unnamed: 0                                              title  \\\n",
       "0        8476                       You Can Smell Hillary’s Fear   \n",
       "1       10294  Watch The Exact Moment Paul Ryan Committed Pol...   \n",
       "2        3608        Kerry to go to Paris in gesture of sympathy   \n",
       "3       10142  Bernie supporters on Twitter erupt in anger ag...   \n",
       "4         875   The Battle of New York: Why This Primary Matters   \n",
       "\n",
       "                                                text label  \n",
       "0  Daniel Greenfield, a Shillman Journalism Fello...  FAKE  \n",
       "1  Google Pinterest Digg Linkedin Reddit Stumbleu...  FAKE  \n",
       "2  U.S. Secretary of State John F. Kerry said Mon...  REAL  \n",
       "3  — Kaydee King (@KaydeeKing) November 9, 2016 T...  FAKE  \n",
       "4  It's primary day in New York and front-runners...  REAL  "
      ]
     },
     "execution_count": 5,
     "metadata": {},
     "output_type": "execute_result"
    }
   ],
   "source": [
    "df = pd.read_csv(\"news.csv\")\n",
    "#df.head()"
   ]
  },
  {
   "cell_type": "markdown",
   "id": "814a31d6",
   "metadata": {},
   "source": [
    "Joined the Title and the Text columns together and dropped the original title and text columns. \n",
    "Also dropped Unnamed:0 columns since it is unique for each row so will not be useful in classification"
   ]
  },
  {
   "cell_type": "code",
   "execution_count": 6,
   "id": "ca27721d",
   "metadata": {},
   "outputs": [],
   "source": [
    "df['all'] = df['title'] + ' ' + df['text']\n",
    "df = df.drop(['Unnamed: 0', 'title', 'text'], axis=1)"
   ]
  },
  {
   "cell_type": "code",
   "execution_count": 8,
   "id": "86492b42",
   "metadata": {},
   "outputs": [],
   "source": [
    "#remove stop words (need to be lowercase)\n",
    "stop = stopwords.words('english')\n",
    "\n",
    "df['all'] = df['all'].apply(lambda z: \" \".join(z for z in z.lower().split() if z not in stop))"
   ]
  },
  {
   "cell_type": "markdown",
   "id": "f9b02fb8",
   "metadata": {},
   "source": [
    "NRCLex is a dataset that has a list of words cateforized into different 'emotions'"
   ]
  },
  {
   "cell_type": "code",
   "execution_count": 41,
   "id": "75e66248",
   "metadata": {},
   "outputs": [
    {
     "name": "stdout",
     "output_type": "stream",
     "text": [
      "{'happy': ['anticipation', 'joy', 'positive', 'trust'], 'excited': ['anticipation', 'joy', 'positive', 'surprise', 'trust'], 'liar': ['disgust', 'negative']}\n"
     ]
    },
    {
     "data": {
      "text/plain": [
       "{'fear': 0.0,\n",
       " 'anger': 0.0,\n",
       " 'anticip': 0.0,\n",
       " 'trust': 0.18181818181818182,\n",
       " 'surprise': 0.09090909090909091,\n",
       " 'positive': 0.18181818181818182,\n",
       " 'negative': 0.09090909090909091,\n",
       " 'sadness': 0.0,\n",
       " 'disgust': 0.09090909090909091,\n",
       " 'joy': 0.18181818181818182,\n",
       " 'anticipation': 0.18181818181818182}"
      ]
     },
     "execution_count": 41,
     "metadata": {},
     "output_type": "execute_result"
    }
   ],
   "source": [
    "#!pip install NRCLex\n",
    "from nrclex import NRCLex\n",
    "text_object = NRCLex(text = \"I am a happy and excited student and a liar\")\n",
    "#text_object.load_raw_text(df['all'].iloc[0])\n",
    "\n",
    "#getting to know the library's functions\n",
    "print(text_object.affect_dict)\n",
    "text_object.affect_list\n",
    "text_object.top_emotions[0][1]\n",
    "text_object.affect_frequencies"
   ]
  },
  {
   "cell_type": "markdown",
   "id": "0612bd42",
   "metadata": {},
   "source": [
    "### Question 1: Taking into consideration the length of each text, is there a difference in the avg ratio of emotional words to total words for fake vs real news?"
   ]
  },
  {
   "cell_type": "code",
   "execution_count": 43,
   "id": "2aa913de",
   "metadata": {},
   "outputs": [],
   "source": [
    "#del dfFake\n",
    "dfFake = df[df['label']=='FAKE']\n",
    "dfFake = dfFake.reset_index(drop=True)\n",
    "\n",
    "c=0;\n",
    "for row in dfFake['all']:\n",
    "    txt_obj = NRCLex(text = row)\n",
    "    x = txt_obj.top_emotions[0][0]\n",
    "    y = len(txt_obj.words)            #gets total lenght of row\n",
    "    d = txt_obj.raw_emotion_scores    #prints the frequency of words found in row for each 'emotion' category\n",
    "    z = sum(d.values())               #sums the total number of emotional words\n",
    "\n",
    "    #print(x)\n",
    "    dfFake.loc[c, 'top_emotions'] = x \n",
    "    dfFake.loc[c, 'num_words_in_text'] = y\n",
    "    dfFake.loc[c, 'sum_emotional_wrds'] = z    \n",
    "    c+=1"
   ]
  },
  {
   "cell_type": "code",
   "execution_count": 45,
   "id": "98d13e81",
   "metadata": {},
   "outputs": [
    {
     "name": "stdout",
     "output_type": "stream",
     "text": [
      "0.38113211125158014\n"
     ]
    }
   ],
   "source": [
    "dfFake['ratio_emotional_to_total'] = (dfFake['sum_emotional_wrds']/dfFake['num_words_in_text']).round(4)\n",
    "avg_fake = dfFake['ratio_emotional_to_total'].mean()\n",
    "print(avg_fake)"
   ]
  },
  {
   "cell_type": "code",
   "execution_count": 46,
   "id": "c50f7c25",
   "metadata": {
    "collapsed": true
   },
   "outputs": [
    {
     "data": {
      "text/html": [
       "<div>\n",
       "<style scoped>\n",
       "    .dataframe tbody tr th:only-of-type {\n",
       "        vertical-align: middle;\n",
       "    }\n",
       "\n",
       "    .dataframe tbody tr th {\n",
       "        vertical-align: top;\n",
       "    }\n",
       "\n",
       "    .dataframe thead th {\n",
       "        text-align: right;\n",
       "    }\n",
       "</style>\n",
       "<table border=\"1\" class=\"dataframe\">\n",
       "  <thead>\n",
       "    <tr style=\"text-align: right;\">\n",
       "      <th></th>\n",
       "      <th>label</th>\n",
       "      <th>all</th>\n",
       "      <th>top_emotions</th>\n",
       "      <th>num_words_in_text</th>\n",
       "      <th>sum_emotional_wrds</th>\n",
       "      <th>ratio_emotional_to_total</th>\n",
       "    </tr>\n",
       "  </thead>\n",
       "  <tbody>\n",
       "    <tr>\n",
       "      <th>0</th>\n",
       "      <td>FAKE</td>\n",
       "      <td>smell hillari fear daniel greenfield, shillman...</td>\n",
       "      <td>negative</td>\n",
       "      <td>718.0</td>\n",
       "      <td>308.0</td>\n",
       "      <td>0.4290</td>\n",
       "    </tr>\n",
       "    <tr>\n",
       "      <th>1</th>\n",
       "      <td>FAKE</td>\n",
       "      <td>watch exact moment paul ryan commit polit suic...</td>\n",
       "      <td>positive</td>\n",
       "      <td>271.0</td>\n",
       "      <td>91.0</td>\n",
       "      <td>0.3358</td>\n",
       "    </tr>\n",
       "    <tr>\n",
       "      <th>2</th>\n",
       "      <td>FAKE</td>\n",
       "      <td>berni support twitter erupt anger dnc: we tri ...</td>\n",
       "      <td>trust</td>\n",
       "      <td>278.0</td>\n",
       "      <td>124.0</td>\n",
       "      <td>0.4460</td>\n",
       "    </tr>\n",
       "    <tr>\n",
       "      <th>3</th>\n",
       "      <td>FAKE</td>\n",
       "      <td>tehran, usa i'm immigrant, grandpar are. 50 ye...</td>\n",
       "      <td>positive</td>\n",
       "      <td>1284.0</td>\n",
       "      <td>607.0</td>\n",
       "      <td>0.4727</td>\n",
       "    </tr>\n",
       "    <tr>\n",
       "      <th>4</th>\n",
       "      <td>FAKE</td>\n",
       "      <td>girl horrifi watch boyfriend left facetim shar...</td>\n",
       "      <td>fear</td>\n",
       "      <td>312.0</td>\n",
       "      <td>103.0</td>\n",
       "      <td>0.3301</td>\n",
       "    </tr>\n",
       "    <tr>\n",
       "      <th>...</th>\n",
       "      <td>...</td>\n",
       "      <td>...</td>\n",
       "      <td>...</td>\n",
       "      <td>...</td>\n",
       "      <td>...</td>\n",
       "      <td>...</td>\n",
       "    </tr>\n",
       "    <tr>\n",
       "      <th>3159</th>\n",
       "      <td>FAKE</td>\n",
       "      <td>doj complaint: comey fire partisan witch hunt ...</td>\n",
       "      <td>trust</td>\n",
       "      <td>313.0</td>\n",
       "      <td>85.0</td>\n",
       "      <td>0.2716</td>\n",
       "    </tr>\n",
       "    <tr>\n",
       "      <th>3160</th>\n",
       "      <td>FAKE</td>\n",
       "      <td>radio derb air–leonardo brazil miss bum bum pa...</td>\n",
       "      <td>negative</td>\n",
       "      <td>9.0</td>\n",
       "      <td>7.0</td>\n",
       "      <td>0.7778</td>\n",
       "    </tr>\n",
       "    <tr>\n",
       "      <th>3161</th>\n",
       "      <td>FAKE</td>\n",
       "      <td>assang claim craze clinton campaign tri hack w...</td>\n",
       "      <td>trust</td>\n",
       "      <td>257.0</td>\n",
       "      <td>72.0</td>\n",
       "      <td>0.2802</td>\n",
       "    </tr>\n",
       "    <tr>\n",
       "      <th>3162</th>\n",
       "      <td>FAKE</td>\n",
       "      <td>p pbs stand plutocrat pentagon p pbs stand plu...</td>\n",
       "      <td>positive</td>\n",
       "      <td>1493.0</td>\n",
       "      <td>578.0</td>\n",
       "      <td>0.3871</td>\n",
       "    </tr>\n",
       "    <tr>\n",
       "      <th>3163</th>\n",
       "      <td>FAKE</td>\n",
       "      <td>anti-trump protest tool oligarchi : inform ant...</td>\n",
       "      <td>positive</td>\n",
       "      <td>1083.0</td>\n",
       "      <td>478.0</td>\n",
       "      <td>0.4414</td>\n",
       "    </tr>\n",
       "  </tbody>\n",
       "</table>\n",
       "<p>3164 rows × 6 columns</p>\n",
       "</div>"
      ],
      "text/plain": [
       "     label                                                all top_emotions  \\\n",
       "0     FAKE  smell hillari fear daniel greenfield, shillman...     negative   \n",
       "1     FAKE  watch exact moment paul ryan commit polit suic...     positive   \n",
       "2     FAKE  berni support twitter erupt anger dnc: we tri ...        trust   \n",
       "3     FAKE  tehran, usa i'm immigrant, grandpar are. 50 ye...     positive   \n",
       "4     FAKE  girl horrifi watch boyfriend left facetim shar...         fear   \n",
       "...    ...                                                ...          ...   \n",
       "3159  FAKE  doj complaint: comey fire partisan witch hunt ...        trust   \n",
       "3160  FAKE  radio derb air–leonardo brazil miss bum bum pa...     negative   \n",
       "3161  FAKE  assang claim craze clinton campaign tri hack w...        trust   \n",
       "3162  FAKE  p pbs stand plutocrat pentagon p pbs stand plu...     positive   \n",
       "3163  FAKE  anti-trump protest tool oligarchi : inform ant...     positive   \n",
       "\n",
       "      num_words_in_text  sum_emotional_wrds  ratio_emotional_to_total  \n",
       "0                 718.0               308.0                    0.4290  \n",
       "1                 271.0                91.0                    0.3358  \n",
       "2                 278.0               124.0                    0.4460  \n",
       "3                1284.0               607.0                    0.4727  \n",
       "4                 312.0               103.0                    0.3301  \n",
       "...                 ...                 ...                       ...  \n",
       "3159              313.0                85.0                    0.2716  \n",
       "3160                9.0                 7.0                    0.7778  \n",
       "3161              257.0                72.0                    0.2802  \n",
       "3162             1493.0               578.0                    0.3871  \n",
       "3163             1083.0               478.0                    0.4414  \n",
       "\n",
       "[3164 rows x 6 columns]"
      ]
     },
     "execution_count": 46,
     "metadata": {},
     "output_type": "execute_result"
    }
   ],
   "source": [
    "dfFake"
   ]
  },
  {
   "cell_type": "code",
   "execution_count": 47,
   "id": "435a648f",
   "metadata": {},
   "outputs": [],
   "source": [
    "# for the REAL classified texts in x_train, how many had negative as the top emotion?\n",
    "#del dfReal\n",
    "dfReal = df[df['label']=='REAL']\n",
    "dfReal = dfReal.reset_index(drop=True)\n",
    "\n",
    "c=0;\n",
    "for row in dfReal['all']:\n",
    "    txt_obj = NRCLex(text = row)\n",
    "    x = txt_obj.top_emotions[0][0]\n",
    "    y = len(txt_obj.words)\n",
    "    d = txt_obj.raw_emotion_scores\n",
    "    z = sum(d.values())\n",
    "\n",
    "    #print(x)\n",
    "    dfReal.loc[c, 'top_emotions'] = x \n",
    "    dfReal.loc[c, 'num_words_in_text'] = y\n",
    "    dfReal.loc[c, 'sum_emotional_wrds'] = z    \n",
    "    c+=1"
   ]
  },
  {
   "cell_type": "code",
   "execution_count": 48,
   "id": "3f698eab",
   "metadata": {},
   "outputs": [
    {
     "name": "stdout",
     "output_type": "stream",
     "text": [
      "0.3874049964485361\n"
     ]
    }
   ],
   "source": [
    "dfReal['ratio_emotional_to_total'] = dfReal['sum_emotional_wrds']/dfReal['num_words_in_text']\n",
    "avg_real = dfReal['ratio_emotional_to_total'].mean()\n",
    "print(avg_real)"
   ]
  },
  {
   "cell_type": "code",
   "execution_count": 49,
   "id": "509a3096",
   "metadata": {
    "collapsed": true
   },
   "outputs": [
    {
     "data": {
      "text/html": [
       "<div>\n",
       "<style scoped>\n",
       "    .dataframe tbody tr th:only-of-type {\n",
       "        vertical-align: middle;\n",
       "    }\n",
       "\n",
       "    .dataframe tbody tr th {\n",
       "        vertical-align: top;\n",
       "    }\n",
       "\n",
       "    .dataframe thead th {\n",
       "        text-align: right;\n",
       "    }\n",
       "</style>\n",
       "<table border=\"1\" class=\"dataframe\">\n",
       "  <thead>\n",
       "    <tr style=\"text-align: right;\">\n",
       "      <th></th>\n",
       "      <th>label</th>\n",
       "      <th>all</th>\n",
       "      <th>top_emotions</th>\n",
       "      <th>num_words_in_text</th>\n",
       "      <th>sum_emotional_wrds</th>\n",
       "      <th>ratio_emotional_to_total</th>\n",
       "    </tr>\n",
       "  </thead>\n",
       "  <tbody>\n",
       "    <tr>\n",
       "      <th>0</th>\n",
       "      <td>REAL</td>\n",
       "      <td>kerri go pari gestur sympathi u.s. secretari s...</td>\n",
       "      <td>positive</td>\n",
       "      <td>260.0</td>\n",
       "      <td>96.0</td>\n",
       "      <td>0.369231</td>\n",
       "    </tr>\n",
       "    <tr>\n",
       "      <th>1</th>\n",
       "      <td>REAL</td>\n",
       "      <td>battl new york: primari matter primari day new...</td>\n",
       "      <td>positive</td>\n",
       "      <td>201.0</td>\n",
       "      <td>90.0</td>\n",
       "      <td>0.447761</td>\n",
       "    </tr>\n",
       "    <tr>\n",
       "      <th>2</th>\n",
       "      <td>REAL</td>\n",
       "      <td>britain schindler die 106 czech stockbrok save...</td>\n",
       "      <td>fear</td>\n",
       "      <td>83.0</td>\n",
       "      <td>15.0</td>\n",
       "      <td>0.180723</td>\n",
       "    </tr>\n",
       "    <tr>\n",
       "      <th>3</th>\n",
       "      <td>REAL</td>\n",
       "      <td>fact check: trump clinton commander-in-chief f...</td>\n",
       "      <td>positive</td>\n",
       "      <td>1526.0</td>\n",
       "      <td>503.0</td>\n",
       "      <td>0.329620</td>\n",
       "    </tr>\n",
       "    <tr>\n",
       "      <th>4</th>\n",
       "      <td>REAL</td>\n",
       "      <td>iran report make new push uranium concess nucl...</td>\n",
       "      <td>positive</td>\n",
       "      <td>434.0</td>\n",
       "      <td>129.0</td>\n",
       "      <td>0.297235</td>\n",
       "    </tr>\n",
       "    <tr>\n",
       "      <th>...</th>\n",
       "      <td>...</td>\n",
       "      <td>...</td>\n",
       "      <td>...</td>\n",
       "      <td>...</td>\n",
       "      <td>...</td>\n",
       "      <td>...</td>\n",
       "    </tr>\n",
       "    <tr>\n",
       "      <th>3166</th>\n",
       "      <td>REAL</td>\n",
       "      <td>alabama lawmaker: same-sex coupl don't deserv ...</td>\n",
       "      <td>trust</td>\n",
       "      <td>199.0</td>\n",
       "      <td>48.0</td>\n",
       "      <td>0.241206</td>\n",
       "    </tr>\n",
       "    <tr>\n",
       "      <th>3167</th>\n",
       "      <td>REAL</td>\n",
       "      <td>gop senat david perdu joke pray obama death fr...</td>\n",
       "      <td>positive</td>\n",
       "      <td>243.0</td>\n",
       "      <td>119.0</td>\n",
       "      <td>0.489712</td>\n",
       "    </tr>\n",
       "    <tr>\n",
       "      <th>3168</th>\n",
       "      <td>REAL</td>\n",
       "      <td>state depart say can't find email clinton spec...</td>\n",
       "      <td>anticipation</td>\n",
       "      <td>402.0</td>\n",
       "      <td>127.0</td>\n",
       "      <td>0.315920</td>\n",
       "    </tr>\n",
       "    <tr>\n",
       "      <th>3169</th>\n",
       "      <td>REAL</td>\n",
       "      <td>ethiopia, obama seek progress peace, secur eas...</td>\n",
       "      <td>positive</td>\n",
       "      <td>736.0</td>\n",
       "      <td>258.0</td>\n",
       "      <td>0.350543</td>\n",
       "    </tr>\n",
       "    <tr>\n",
       "      <th>3170</th>\n",
       "      <td>REAL</td>\n",
       "      <td>jeb bush sudden attack trump. here matter jeb ...</td>\n",
       "      <td>surprise</td>\n",
       "      <td>496.0</td>\n",
       "      <td>208.0</td>\n",
       "      <td>0.419355</td>\n",
       "    </tr>\n",
       "  </tbody>\n",
       "</table>\n",
       "<p>3171 rows × 6 columns</p>\n",
       "</div>"
      ],
      "text/plain": [
       "     label                                                all  top_emotions  \\\n",
       "0     REAL  kerri go pari gestur sympathi u.s. secretari s...      positive   \n",
       "1     REAL  battl new york: primari matter primari day new...      positive   \n",
       "2     REAL  britain schindler die 106 czech stockbrok save...          fear   \n",
       "3     REAL  fact check: trump clinton commander-in-chief f...      positive   \n",
       "4     REAL  iran report make new push uranium concess nucl...      positive   \n",
       "...    ...                                                ...           ...   \n",
       "3166  REAL  alabama lawmaker: same-sex coupl don't deserv ...         trust   \n",
       "3167  REAL  gop senat david perdu joke pray obama death fr...      positive   \n",
       "3168  REAL  state depart say can't find email clinton spec...  anticipation   \n",
       "3169  REAL  ethiopia, obama seek progress peace, secur eas...      positive   \n",
       "3170  REAL  jeb bush sudden attack trump. here matter jeb ...      surprise   \n",
       "\n",
       "      num_words_in_text  sum_emotional_wrds  ratio_emotional_to_total  \n",
       "0                 260.0                96.0                  0.369231  \n",
       "1                 201.0                90.0                  0.447761  \n",
       "2                  83.0                15.0                  0.180723  \n",
       "3                1526.0               503.0                  0.329620  \n",
       "4                 434.0               129.0                  0.297235  \n",
       "...                 ...                 ...                       ...  \n",
       "3166              199.0                48.0                  0.241206  \n",
       "3167              243.0               119.0                  0.489712  \n",
       "3168              402.0               127.0                  0.315920  \n",
       "3169              736.0               258.0                  0.350543  \n",
       "3170              496.0               208.0                  0.419355  \n",
       "\n",
       "[3171 rows x 6 columns]"
      ]
     },
     "execution_count": 49,
     "metadata": {},
     "output_type": "execute_result"
    }
   ],
   "source": [
    "dfReal"
   ]
  },
  {
   "cell_type": "code",
   "execution_count": 14,
   "id": "a743e792",
   "metadata": {},
   "outputs": [
    {
     "data": {
      "image/png": "[encoded data removed]",
      "text/plain": [
       "<Figure size 432x360 with 1 Axes>"
      ]
     },
     "metadata": {
      "needs_background": "light"
     },
     "output_type": "display_data"
    }
   ],
   "source": [
    "# Category labels (optional)\n",
    "categories = [\"Fake\", \"Real\"]\n",
    "\n",
    "# Create the bar chart\n",
    "plt.figure(figsize=(6, 5))  \n",
    "plt.bar(categories, [avg_fake, avg_real])\n",
    "\n",
    "# Set chart title and labels\n",
    "plt.title(\"Comparison of Avg Ratios\")\n",
    "plt.xlabel(\"News Label\")\n",
    "plt.ylabel(\"Values\")\n",
    "\n",
    "# Add data labels (optional)\n",
    "plt.bar_label(plt.gca().containers[0])  # Get containers and add labels\n",
    "\n",
    "# Display the chart\n",
    "plt.show()"
   ]
  },
  {
   "cell_type": "markdown",
   "id": "00a5d89d",
   "metadata": {},
   "source": [
    "### Question 2: Is there a trend between the type of emotions found in of the Fake news vs those found in Real news?"
   ]
  },
  {
   "cell_type": "code",
   "execution_count": 15,
   "id": "a79fa609",
   "metadata": {
    "scrolled": true
   },
   "outputs": [
    {
     "data": {
      "text/html": [
       "<div>\n",
       "<style scoped>\n",
       "    .dataframe tbody tr th:only-of-type {\n",
       "        vertical-align: middle;\n",
       "    }\n",
       "\n",
       "    .dataframe tbody tr th {\n",
       "        vertical-align: top;\n",
       "    }\n",
       "\n",
       "    .dataframe thead th {\n",
       "        text-align: right;\n",
       "    }\n",
       "</style>\n",
       "<table border=\"1\" class=\"dataframe\">\n",
       "  <thead>\n",
       "    <tr style=\"text-align: right;\">\n",
       "      <th></th>\n",
       "      <th>Fake</th>\n",
       "      <th>Real</th>\n",
       "    </tr>\n",
       "    <tr>\n",
       "      <th>top_emotions</th>\n",
       "      <th></th>\n",
       "      <th></th>\n",
       "    </tr>\n",
       "  </thead>\n",
       "  <tbody>\n",
       "    <tr>\n",
       "      <th>anger</th>\n",
       "      <td>19</td>\n",
       "      <td>16</td>\n",
       "    </tr>\n",
       "    <tr>\n",
       "      <th>anticipation</th>\n",
       "      <td>50</td>\n",
       "      <td>6</td>\n",
       "    </tr>\n",
       "    <tr>\n",
       "      <th>fear</th>\n",
       "      <td>180</td>\n",
       "      <td>131</td>\n",
       "    </tr>\n",
       "    <tr>\n",
       "      <th>negative</th>\n",
       "      <td>595</td>\n",
       "      <td>359</td>\n",
       "    </tr>\n",
       "    <tr>\n",
       "      <th>positive</th>\n",
       "      <td>1980</td>\n",
       "      <td>2321</td>\n",
       "    </tr>\n",
       "    <tr>\n",
       "      <th>sadness</th>\n",
       "      <td>2</td>\n",
       "      <td>2</td>\n",
       "    </tr>\n",
       "    <tr>\n",
       "      <th>surprise</th>\n",
       "      <td>39</td>\n",
       "      <td>31</td>\n",
       "    </tr>\n",
       "    <tr>\n",
       "      <th>trust</th>\n",
       "      <td>299</td>\n",
       "      <td>305</td>\n",
       "    </tr>\n",
       "  </tbody>\n",
       "</table>\n",
       "</div>"
      ],
      "text/plain": [
       "              Fake  Real\n",
       "top_emotions            \n",
       "anger           19    16\n",
       "anticipation    50     6\n",
       "fear           180   131\n",
       "negative       595   359\n",
       "positive      1980  2321\n",
       "sadness          2     2\n",
       "surprise        39    31\n",
       "trust          299   305"
      ]
     },
     "execution_count": 15,
     "metadata": {},
     "output_type": "execute_result"
    }
   ],
   "source": [
    "dfFake2= pd.DataFrame(dfFake.groupby(['top_emotions'])['all'].count())\n",
    "dfReal2= pd.DataFrame(dfReal.groupby(['top_emotions'])['all'].count())\n",
    "\n",
    "df_joined = pd.concat([dfFake2, dfReal2], axis=1)  # Join along rows\n",
    "df_joined.columns = ['Fake', 'Real']\n",
    "df_joined"
   ]
  },
  {
   "cell_type": "code",
   "execution_count": 16,
   "id": "1e215949",
   "metadata": {},
   "outputs": [
    {
     "data": {
      "image/png": "[encoded data removed]",
      "text/plain": [
       "<Figure size 432x288 with 1 Axes>"
      ]
     },
     "metadata": {
      "needs_background": "light"
     },
     "output_type": "display_data"
    }
   ],
   "source": [
    "# Create the double bar chart\n",
    "df_joined.plot(kind='bar', stacked=False)  \n",
    "\n",
    "# Customize the chart (optional)\n",
    "plt.xlabel(\"Top Emotions\")\n",
    "plt.ylabel(\"Count of Texts\")\n",
    "plt.legend(title=\"Columns\")  \n",
    "\n",
    "# Display the chart\n",
    "plt.show()"
   ]
  },
  {
   "cell_type": "markdown",
   "id": "7b3a03bf",
   "metadata": {},
   "source": [
    "### Conclusion: The answer to both of the questions above is NO. There is no apparent relation between the usage of 'emotional' / 'charged' words and whether the news is Fake or Real"
   ]
  },
  {
   "cell_type": "code",
   "execution_count": 17,
   "id": "dca77868",
   "metadata": {},
   "outputs": [
    {
     "data": {
      "text/html": [
       "<div>\n",
       "<style scoped>\n",
       "    .dataframe tbody tr th:only-of-type {\n",
       "        vertical-align: middle;\n",
       "    }\n",
       "\n",
       "    .dataframe tbody tr th {\n",
       "        vertical-align: top;\n",
       "    }\n",
       "\n",
       "    .dataframe thead th {\n",
       "        text-align: right;\n",
       "    }\n",
       "</style>\n",
       "<table border=\"1\" class=\"dataframe\">\n",
       "  <thead>\n",
       "    <tr style=\"text-align: right;\">\n",
       "      <th></th>\n",
       "      <th>label</th>\n",
       "      <th>all</th>\n",
       "    </tr>\n",
       "  </thead>\n",
       "  <tbody>\n",
       "    <tr>\n",
       "      <th>0</th>\n",
       "      <td>FAKE</td>\n",
       "      <td>smell hillari fear daniel greenfield, shillman...</td>\n",
       "    </tr>\n",
       "    <tr>\n",
       "      <th>1</th>\n",
       "      <td>FAKE</td>\n",
       "      <td>watch exact moment paul ryan commit polit suic...</td>\n",
       "    </tr>\n",
       "    <tr>\n",
       "      <th>2</th>\n",
       "      <td>REAL</td>\n",
       "      <td>kerri go pari gestur sympathi u.s. secretari s...</td>\n",
       "    </tr>\n",
       "    <tr>\n",
       "      <th>3</th>\n",
       "      <td>FAKE</td>\n",
       "      <td>berni support twitter erupt anger dnc: we tri ...</td>\n",
       "    </tr>\n",
       "    <tr>\n",
       "      <th>4</th>\n",
       "      <td>REAL</td>\n",
       "      <td>battl new york: primari matter primari day new...</td>\n",
       "    </tr>\n",
       "  </tbody>\n",
       "</table>\n",
       "</div>"
      ],
      "text/plain": [
       "  label                                                all\n",
       "0  FAKE  smell hillari fear daniel greenfield, shillman...\n",
       "1  FAKE  watch exact moment paul ryan commit polit suic...\n",
       "2  REAL  kerri go pari gestur sympathi u.s. secretari s...\n",
       "3  FAKE  berni support twitter erupt anger dnc: we tri ...\n",
       "4  REAL  battl new york: primari matter primari day new..."
      ]
     },
     "execution_count": 17,
     "metadata": {},
     "output_type": "execute_result"
    }
   ],
   "source": [
    "#stemming \n",
    "snowstem = SnowballStemmer(language='english')\n",
    "df['all'] = df['all'].apply(lambda z: \" \".join([snowstem.stem(word) for word in z.split()]))\n",
    "\n",
    "df.head()"
   ]
  },
  {
   "cell_type": "code",
   "execution_count": 18,
   "id": "c2f98a94",
   "metadata": {},
   "outputs": [],
   "source": [
    "#lemmatization\n",
    "#df['text'] =df['text'].apply(lambda x: \" \".join([Word(word).lemmatize() for word in x.split()]))\n",
    "#df.head()"
   ]
  },
  {
   "cell_type": "code",
   "execution_count": 19,
   "id": "46456816",
   "metadata": {},
   "outputs": [],
   "source": [
    "x_train, x_test, y_train, y_test = train_test_split(df['all'], df['label'], test_size=0.3, shuffle=True, random_state=24)"
   ]
  },
  {
   "cell_type": "code",
   "execution_count": 26,
   "id": "9d3616ae",
   "metadata": {},
   "outputs": [
    {
     "data": {
      "text/plain": [
       "array([0, 1, 1, ..., 0, 1, 1], dtype=int64)"
      ]
     },
     "execution_count": 26,
     "metadata": {},
     "output_type": "execute_result"
    }
   ],
   "source": [
    "encoder = LabelEncoder()\n",
    "y_train = encoder.fit_transform(y_train)\n",
    "y_test = encoder.transform(y_test)\n",
    "y_test"
   ]
  },
  {
   "cell_type": "code",
   "execution_count": 27,
   "id": "cca7378f",
   "metadata": {},
   "outputs": [
    {
     "data": {
      "text/plain": [
       "array([0.02143249, 0.01756081, 0.03512161, ..., 0.03122463, 0.03439567,\n",
       "       0.01447656])"
      ]
     },
     "execution_count": 27,
     "metadata": {},
     "output_type": "execute_result"
    }
   ],
   "source": [
    "#to prevent data leakage, tfidf is performed separately on training and testing datasets\n",
    "tfidf_vect = TfidfVectorizer()\n",
    "xtrain_tfidf = tfidf_vect.fit_transform(x_train)\n",
    "xtest_tfidf =  tfidf_vect.transform(x_test)\n",
    "\n",
    "#xtest_tfidf.data"
   ]
  },
  {
   "cell_type": "markdown",
   "id": "22b0ac58",
   "metadata": {},
   "source": [
    "#### Classification Model 1: Passive Aggressive Classifier"
   ]
  },
  {
   "cell_type": "code",
   "execution_count": 28,
   "id": "cee0e5f5",
   "metadata": {},
   "outputs": [
    {
     "data": {
      "text/plain": [
       "93.161"
      ]
     },
     "execution_count": 28,
     "metadata": {},
     "output_type": "execute_result"
    }
   ],
   "source": [
    "pac=PassiveAggressiveClassifier()\n",
    "pac.fit(xtrain_tfidf, y_train)\n",
    "\n",
    "y_pred=pac.predict(xtest_tfidf)\n",
    "\n",
    "from sklearn import metrics\n",
    "pac_acc = metrics.accuracy_score(y_pred, y_test).round(5)*100\n",
    "pac_acc"
   ]
  },
  {
   "cell_type": "markdown",
   "id": "bcb50ffb",
   "metadata": {},
   "source": [
    "#### Classification Model 2: Naive Bayes Classifier"
   ]
  },
  {
   "cell_type": "code",
   "execution_count": 51,
   "id": "63620e3d",
   "metadata": {},
   "outputs": [],
   "source": [
    "from sklearn.naive_bayes import GaussianNB\n",
    "gnb = GaussianNB()\n",
    "gnb.fit(xtrain_tfidf.toarray(), y_train)\n",
    "   \n",
    "y_pred = gnb.predict(xtest_tfidf.toarray())\n",
    "   \n",
    "nb_acc = metrics.accuracy_score(y_test, y_pred)*100\n",
    "nb_acc = nb_acc.round(5)\n",
    "nb_acc"
   ]
  },
  {
   "cell_type": "markdown",
   "id": "90608779",
   "metadata": {},
   "source": [
    "#### Classification Model 3: Random Forest Classifier"
   ]
  },
  {
   "cell_type": "code",
   "execution_count": 30,
   "id": "bf81d3d1",
   "metadata": {},
   "outputs": [
    {
     "data": {
      "text/plain": [
       "80.589"
      ]
     },
     "execution_count": 30,
     "metadata": {},
     "output_type": "execute_result"
    }
   ],
   "source": [
    "from sklearn.ensemble import RandomForestClassifier\n",
    "\n",
    "RFclf = RandomForestClassifier(max_depth=4)#, random_state=0)\n",
    "RFclf.fit(xtrain_tfidf, y_train)\n",
    "y_pred = RFclf.predict(xtest_tfidf)\n",
    "\n",
    "rf_acc = metrics.accuracy_score(y_test, y_pred).round(5)*100\n",
    "rf_acc"
   ]
  },
  {
   "cell_type": "markdown",
   "id": "dee0a8d6",
   "metadata": {},
   "source": [
    "#### Classification Model 4: Support Vector Classifier"
   ]
  },
  {
   "cell_type": "code",
   "execution_count": 31,
   "id": "ea1be974",
   "metadata": {},
   "outputs": [
    {
     "data": {
      "text/plain": [
       "92.898"
      ]
     },
     "execution_count": 31,
     "metadata": {},
     "output_type": "execute_result"
    }
   ],
   "source": [
    "from sklearn.svm import SVC\n",
    "SVCclf = SVC(kernel='linear')\n",
    "\n",
    "SVCclf.fit(xtrain_tfidf, y_train)\n",
    "\n",
    "y_pred = SVCclf.predict(xtest_tfidf)\n",
    "svc_acc = metrics.accuracy_score(y_test, y_pred).round(5)*100\n",
    "svc_acc"
   ]
  },
  {
   "cell_type": "markdown",
   "id": "75e7d173",
   "metadata": {},
   "source": [
    "### Visualization of Results"
   ]
  },
  {
   "cell_type": "code",
   "execution_count": 32,
   "id": "cb33878f",
   "metadata": {},
   "outputs": [
    {
     "data": {
      "image/png": "[encoded data removed]",
      "text/plain": [
       "<Figure size 576x432 with 1 Axes>"
      ]
     },
     "metadata": {
      "needs_background": "light"
     },
     "output_type": "display_data"
    }
   ],
   "source": [
    "plt.figure(figsize=(8, 6))  # Adjust figure size as needed\n",
    "plt.bar(['Passive Aggressive', 'Naive Bayes', 'Random Forest', 'SVC'], [pac_acc, nb_acc, rf_acc, svc_acc])\n",
    "plt.title('Classifier Accuracies')\n",
    "plt.xlabel(\"Classifier\")\n",
    "plt.ylabel(\"Accuracy\")\n",
    "\n",
    "plt.bar_label(plt.gca().containers[0])  # Get containers and add labels\n",
    "\n",
    "plt.show;"
   ]
  },
  {
   "cell_type": "markdown",
   "id": "3e4f07b1",
   "metadata": {},
   "source": [
    "### Saving the Models Used"
   ]
  },
  {
   "cell_type": "code",
   "execution_count": 57,
   "id": "0d5535e1",
   "metadata": {},
   "outputs": [],
   "source": [
    "with open('preprocessing.pkl', 'wb') as f:\n",
    "    pickle.dump((tfidf_vect), f)\n",
    "\n",
    "with open('models.pkl', 'wb') as f:\n",
    "    pickle.dump((pac), f)"
   ]
  }
 ],
 "metadata": {
  "kernelspec": {
   "display_name": "Python 3 (ipykernel)",
   "language": "python",
   "name": "python3"
  },
  "language_info": {
   "codemirror_mode": {
    "name": "ipython",
    "version": 3
   },
   "file_extension": ".py",
   "mimetype": "text/x-python",
   "name": "python",
   "nbconvert_exporter": "python",
   "pygments_lexer": "ipython3",
   "version": "3.9.12"
  }
 },
 "nbformat": 4,
 "nbformat_minor": 5
}
