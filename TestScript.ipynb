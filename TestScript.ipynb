{
 "cells": [
  {
   "cell_type": "code",
   "execution_count": 39,
   "id": "58f9e44c",
   "metadata": {},
   "outputs": [],
   "source": [
    "import pandas as pd\n",
    "import numpy as np\n",
    "import matplotlib.pyplot as plt\n",
    "from sklearn.model_selection import train_test_split\n",
    "from sklearn.feature_extraction.text import TfidfVectorizer\n",
    "from sklearn.linear_model import PassiveAggressiveClassifier\n",
    "from nltk.corpus import stopwords\n",
    "import string\n",
    "from nltk.stem import SnowballStemmer, PorterStemmer\n",
    "from sklearn.preprocessing import LabelEncoder\n",
    "from sklearn import metrics\n",
    "from textblob import Word, TextBlob\n",
    "import pickle"
   ]
  },
  {
   "cell_type": "code",
   "execution_count": 40,
   "id": "c0e20998",
   "metadata": {},
   "outputs": [],
   "source": [
    "df = pd.read_csv(\"news.csv\")"
   ]
  },
  {
   "cell_type": "code",
   "execution_count": 41,
   "id": "38254ff3",
   "metadata": {},
   "outputs": [],
   "source": [
    "df['all'] = df['title'] + ' ' + df['text']\n",
    "df = df.drop(['Unnamed: 0', 'title', 'text', 'label'], axis=1)"
   ]
  },
  {
   "cell_type": "code",
   "execution_count": 43,
   "id": "59120423",
   "metadata": {
    "scrolled": true
   },
   "outputs": [],
   "source": [
    "stop = stopwords.words('english')\n",
    "\n",
    "df['all'] = df['all'].apply(lambda z: \" \".join(z for z in z.lower().split() if z not in stop))"
   ]
  },
  {
   "cell_type": "code",
   "execution_count": 44,
   "id": "a36390ed",
   "metadata": {},
   "outputs": [],
   "source": [
    "snowstem = SnowballStemmer(language='english')\n",
    "df['all'] = df['all'].apply(lambda z: \" \".join([snowstem.stem(word) for word in z.split()]))"
   ]
  },
  {
   "cell_type": "markdown",
   "id": "edadabd3",
   "metadata": {},
   "source": [
    "### Loading Preprocessing Models"
   ]
  },
  {
   "cell_type": "code",
   "execution_count": 46,
   "id": "9d3616ae",
   "metadata": {},
   "outputs": [],
   "source": [
    "with open('preprocessing.pkl', 'rb') as f:\n",
    "    tfidf_vectorizer = pickle.load(f)"
   ]
  },
  {
   "cell_type": "markdown",
   "id": "e7e4f3bb",
   "metadata": {},
   "source": [
    "### Preprocessing Data"
   ]
  },
  {
   "cell_type": "code",
   "execution_count": 47,
   "id": "cca7378f",
   "metadata": {
    "scrolled": true
   },
   "outputs": [
    {
     "data": {
      "text/plain": [
       "array([0.02986996, 0.02986996, 0.03633709, ..., 0.02602053, 0.02752029,\n",
       "       0.01468306])"
      ]
     },
     "execution_count": 47,
     "metadata": {},
     "output_type": "execute_result"
    }
   ],
   "source": [
    "data_tfidf =  tfidf_vectorizer.transform(df['all'])\n",
    "\n",
    "data_tfidf.data"
   ]
  },
  {
   "cell_type": "markdown",
   "id": "a72f469f",
   "metadata": {},
   "source": [
    "### Loading Classification Models "
   ]
  },
  {
   "cell_type": "code",
   "execution_count": 32,
   "id": "a917a2ac",
   "metadata": {},
   "outputs": [],
   "source": [
    "with open('models.pkl', 'rb') as f:\n",
    "    pac = pickle.load(f)"
   ]
  },
  {
   "cell_type": "markdown",
   "id": "4018de7b",
   "metadata": {},
   "source": [
    "### Predicting using Classification Models "
   ]
  },
  {
   "cell_type": "code",
   "execution_count": 48,
   "id": "cee0e5f5",
   "metadata": {},
   "outputs": [],
   "source": [
    "PACpred=pac.predict(data_tfidf)\n",
    "PACpred"
   ]
  }
 ],
 "metadata": {
  "kernelspec": {
   "display_name": "Python 3 (ipykernel)",
   "language": "python",
   "name": "python3"
  },
  "language_info": {
   "codemirror_mode": {
    "name": "ipython",
    "version": 3
   },
   "file_extension": ".py",
   "mimetype": "text/x-python",
   "name": "python",
   "nbconvert_exporter": "python",
   "pygments_lexer": "ipython3",
   "version": "3.9.12"
  }
 },
 "nbformat": 4,
 "nbformat_minor": 5
}
